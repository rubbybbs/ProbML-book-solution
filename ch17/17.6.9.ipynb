{
 "cells": [
  {
   "cell_type": "code",
   "execution_count": 4,
   "metadata": {},
   "outputs": [],
   "source": [
    "import numpy as np\n",
    "initial_state = 2\n",
    "action_set = (0, 1)\n",
    "class Env:\n",
    "    def __init__(self) -> None:\n",
    "        self.reset()\n",
    "    \n",
    "    def step(self, action):\n",
    "        if action == 0:\n",
    "            return self.state, 0, True, {} # s', r, d, info\n",
    "        else:\n",
    "            return self._play(np.random.rand() > 0.5)\n",
    "    def _play(self, win):\n",
    "        if win == 0:\n",
    "            self.state -= 1\n",
    "            if self.state == 0:\n",
    "                return self.state, -1, True, {} # s', r, d, info\n",
    "            else:\n",
    "                return self.state, -1, False, {} # s', r, d, info\n",
    "        elif win == 1:\n",
    "            self.state += 1\n",
    "            if self.state == 5:\n",
    "                return self.state, 1, True, {} # s', r, d, info\n",
    "            else:\n",
    "                return self.state, 1, False, {} # s', r, d, info\n",
    "        else:\n",
    "            raise NotImplementedError\n",
    "    def reset(self):\n",
    "        self.state = initial_state\n",
    "        return self.state\n",
    "\n",
    "\n",
    "if __name__ == \"__main__\":\n",
    "    env = Env()\n",
    "    env.reset()\n",
    "    done = False\n",
    "    win_time = 0\n",
    "    for _ in range(100000):\n",
    "        while not done:\n",
    "            s_, r, done, info = env.step(1)\n",
    "        if s_ == 5:\n",
    "            win_time += 1\n",
    "        done = False\n",
    "    print(win_time/100000)\n",
    "\n"
   ]
  }
 ],
 "metadata": {
  "kernelspec": {
   "display_name": "tianshouenv",
   "language": "python",
   "name": "python3"
  },
  "language_info": {
   "codemirror_mode": {
    "name": "ipython",
    "version": 3
   },
   "file_extension": ".py",
   "mimetype": "text/x-python",
   "name": "python",
   "nbconvert_exporter": "python",
   "pygments_lexer": "ipython3",
   "version": "3.8.13"
  },
  "orig_nbformat": 4
 },
 "nbformat": 4,
 "nbformat_minor": 2
}
