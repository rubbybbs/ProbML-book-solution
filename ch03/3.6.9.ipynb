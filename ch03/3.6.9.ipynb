{
  "nbformat": 4,
  "nbformat_minor": 0,
  "metadata": {
    "colab": {
      "provenance": [],
      "authorship_tag": "ABX9TyN1cAxT2yrzterxjtSKQRYK",
      "include_colab_link": true
    },
    "kernelspec": {
      "name": "python3",
      "display_name": "Python 3"
    },
    "language_info": {
      "name": "python"
    }
  },
  "cells": [
    {
      "cell_type": "markdown",
      "metadata": {
        "id": "view-in-github",
        "colab_type": "text"
      },
      "source": [
        "<a href=\"https://colab.research.google.com/github/rubbybbs/ProbML-book-solution/blob/main/ch03/3.6.9.ipynb\" target=\"_parent\"><img src=\"https://colab.research.google.com/assets/colab-badge.svg\" alt=\"Open In Colab\"/></a>"
      ]
    },
    {
      "cell_type": "markdown",
      "source": [
        "# 3.6.9\n",
        "编程实现相关向量机（RVM）的参数更新算法，并采样线性核函数即$K(\\mathbf x,\\mathbf x_n)=\\mathbf x^\\top \\mathbf x_n$ 在UCI Iris分类数据集上进行训练，分析参数估计的结果。"
      ],
      "metadata": {
        "id": "uQMNir6_UK5H"
      }
    },
    {
      "cell_type": "code",
      "execution_count": 57,
      "metadata": {
        "colab": {
          "base_uri": "https://localhost:8080/"
        },
        "id": "cPmVRtsySnaG",
        "outputId": "83e2e865-4aed-4743-adfa-7c6020f7da16"
      },
      "outputs": [
        {
          "output_type": "stream",
          "name": "stdout",
          "text": [
            "Learned support vector indices:\n",
            "[  0   1   4   8  29  41  44  48  75  84  98 110]\n",
            "Corresponding labels:\n",
            "[-1 -1 -1 -1  1 -1  1 -1 -1 -1 -1  1]\n",
            "Learned sigma:\n",
            "0.026121286811306526\n",
            "Test accuracy: 1.0\n"
          ]
        }
      ],
      "source": [
        "import numpy as np\n",
        "from sklearn.datasets import load_iris\n",
        "from sklearn.preprocessing import LabelEncoder\n",
        "from sklearn.model_selection import train_test_split\n",
        "from sklearn.metrics import classification_report, confusion_matrix\n",
        "\n",
        "# 加载数据集\n",
        "iris = load_iris()\n",
        "X = iris.data\n",
        "y = iris.target\n",
        "\n",
        "# 将标签编码为-1和1\n",
        "le = LabelEncoder()\n",
        "y = le.fit_transform(y)\n",
        "y = np.where(y > 0, 1, -1)\n",
        "\n",
        "# 划分训练集和测试集\n",
        "X_train, X_test, y_train, y_test = train_test_split(X, y, test_size=0.2, random_state=42)\n",
        "\n",
        "def linear_kernel(x1, x2):\n",
        "    return np.inner(x1, x2)\n",
        "\n",
        "def get_kernel_matrix(X1, X2):\n",
        "    n_samples1, _ = X1.shape\n",
        "    n_samples2, _ = X2.shape\n",
        "    K = np.zeros((n_samples1, n_samples2+1))\n",
        "    K[:, 0] = 1\n",
        "    for i in range(n_samples1):\n",
        "        for j in range(n_samples2):\n",
        "            K[i, j+1] = linear_kernel(X1[i], X2[j])\n",
        "    return K\n",
        "\n",
        "def gaussian_posterior(y, alpha, sigma, K):\n",
        "    Sigma = np.linalg.inv(np.diag(alpha) + K.T @ np.diag(np.repeat(1 / sigma**2, K.shape[0])) @ K)\n",
        "    mu = 1 / sigma**2 * (Sigma @ K.T @ y)\n",
        "    return mu, Sigma\n",
        "\n",
        "# RVM\n",
        "max_iters = 20\n",
        "\n",
        "alpha = np.ones(X_train.shape[0] + 1)\n",
        "sigma = 1\n",
        "K = get_kernel_matrix(X_train, X_train)\n",
        "\n",
        "# Train\n",
        "for _ in range(max_iters):\n",
        "    mu, Sigma = gaussian_posterior(y_train, alpha, sigma, K)\n",
        "    # Update alpha\n",
        "    gamma = 1 - np.diag(Sigma) * alpha\n",
        "    alpha = np.clip(gamma / (mu**2), 0, 1e10)\n",
        "    # Update sigma\n",
        "    sigma = np.linalg.norm(y_train - K @ mu, 2) / (len(y_train) - np.sum(gamma))\n",
        "\n",
        "# Check alpha\n",
        "alpha_1 = alpha[1:]\n",
        "support_vectors = X_train[alpha_1 < 1e10]\n",
        "support_vector_indices = np.where(alpha_1 < 1e10)[0]\n",
        "support_vector_labels = y_train[alpha_1 < 1e10]\n",
        "support_vector_alphas = alpha_1[alpha_1 < 1e10]\n",
        "\n",
        "print(\"Learned support vector indices:\")\n",
        "print(support_vector_indices)\n",
        "print(\"Corresponding labels:\")\n",
        "print(support_vector_labels)\n",
        "\n",
        "print(\"Learned sigma:\")\n",
        "print(sigma)\n",
        "\n",
        "# Pred\n",
        "K_test = get_kernel_matrix(X_test, X_train)\n",
        "y_pred = np.sign(K_test @ mu)\n",
        "\n",
        "acc = np.sum(y_pred == y_test) / len(y_pred)\n",
        "print(f'Test accuracy: {acc}')\n",
        "\n"
      ]
    }
  ]
}