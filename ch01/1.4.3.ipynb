{
  "cells": [
    {
      "cell_type": "markdown",
      "metadata": {
        "id": "cESffJcerWpD"
      },
      "source": [
        "# 习题 1.4.3\n",
        "编程实现K-近邻算法，并在MNIST手写字符识别数据集上进行实验："
      ]
    },
    {
      "cell_type": "code",
      "execution_count": null,
      "metadata": {
        "id": "40yr_DuwrWpI"
      },
      "outputs": [],
      "source": []
    }
  ],
  "metadata": {
    "language_info": {
      "name": "python"
    },
    "orig_nbformat": 4,
    "colab": {
      "provenance": []
    }
  },
  "nbformat": 4,
  "nbformat_minor": 0
}