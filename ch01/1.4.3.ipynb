{
  "cells": [
    {
      "cell_type": "markdown",
      "metadata": {
        "id": "view-in-github",
        "colab_type": "text"
      },
      "source": [
        "<a href=\"https://colab.research.google.com/github/rubbybbs/ProbML-book-solution/blob/main/ch01/1.4.3.ipynb\" target=\"_parent\"><img src=\"https://colab.research.google.com/assets/colab-badge.svg\" alt=\"Open In Colab\"/></a>"
      ]
    },
    {
      "cell_type": "markdown",
      "metadata": {
        "id": "cESffJcerWpD"
      },
      "source": [
        "# 习题 1.4.3\n",
        "编程实现K-近邻算法，并在MNIST手写字符识别数据集上进行实验："
      ]
    },
    {
      "cell_type": "markdown",
      "source": [
        "下载并预处理MNIST手写字符识别数据集"
      ],
      "metadata": {
        "id": "mjS0VIYmPebA"
      }
    },
    {
      "cell_type": "code",
      "execution_count": 1,
      "metadata": {
        "id": "40yr_DuwrWpI"
      },
      "outputs": [],
      "source": [
        "import numpy as np\n",
        "import urllib.request\n",
        "import gzip\n",
        "import pandas as pd\n",
        "\n",
        "np.random.seed(2023)\n",
        "\n",
        "# Download the MNIST dataset\n",
        "urllib.request.urlretrieve(\n",
        "    \"http://yann.lecun.com/exdb/mnist/train-images-idx3-ubyte.gz\", \n",
        "    \"train-images.gz\")\n",
        "urllib.request.urlretrieve(\n",
        "    \"http://yann.lecun.com/exdb/mnist/train-labels-idx1-ubyte.gz\",\n",
        "    \"train-labels.gz\")\n",
        "urllib.request.urlretrieve(\n",
        "    \"http://yann.lecun.com/exdb/mnist/t10k-images-idx3-ubyte.gz\", \n",
        "    \"test-images.gz\")\n",
        "urllib.request.urlretrieve(\n",
        "    \"http://yann.lecun.com/exdb/mnist/t10k-labels-idx1-ubyte.gz\",\n",
        "    \"test-labels.gz\")\n",
        "\n",
        "# Load the training data\n",
        "with gzip.open('train-images.gz', 'rb') as f:\n",
        "    train_images = np.frombuffer(f.read(), np.uint8, offset=16).reshape(-1, 28*28)\n",
        "with gzip.open('train-labels.gz', 'rb') as f:\n",
        "    train_labels = np.frombuffer(f.read(), np.uint8, offset=8)\n",
        "\n",
        "# Load the test data\n",
        "with gzip.open('test-images.gz', 'rb') as f:\n",
        "    test_images = np.frombuffer(f.read(), np.uint8, offset=16).reshape(-1, 28*28)\n",
        "with gzip.open('test-labels.gz', 'rb') as f:\n",
        "    test_labels = np.frombuffer(f.read(), np.uint8, offset=8)\n",
        "\n",
        "# Normalize the data\n",
        "train_images = train_images.astype(np.float32) / 255.0\n",
        "test_images = test_images.astype(np.float32) / 255.0\n",
        "\n",
        "# Generate dataset\n",
        "n_training_per_class = 1000\n",
        "\n",
        "def gen_training_set(n_per_class):\n",
        "    X_train = []\n",
        "    y_train = []\n",
        "    for i in range(n_training_per_class):\n",
        "        class_indices = np.where(train_labels == i)[0][:n_training_per_class]\n",
        "        X_train.append(train_images[class_indices])\n",
        "        y_train.append(np.full((n_training_per_class,), i))\n",
        "    X_train = np.concatenate(X_train, axis=0)\n",
        "    y_train = np.concatenate(y_train, axis=0)\n",
        "    return X_train, y_train\n",
        "\n",
        "X_train, y_train = gen_training_set(n_training_per_class)\n",
        "\n",
        "n_test = 1000\n",
        "indices_test = np.random.choice(np.arange(len(test_images)), size=n_test, replace=False)\n",
        "X_test = test_images[indices_test]\n",
        "y_test = test_labels[indices_test]"
      ]
    },
    {
      "cell_type": "markdown",
      "source": [
        "实现K-近邻算法"
      ],
      "metadata": {
        "id": "_MO5GU5nQPXb"
      }
    },
    {
      "cell_type": "code",
      "source": [
        "def l2_distance(x1, x2, axis=-1):\n",
        "    return np.sqrt(np.sum((x1 - x2) ** 2, axis=axis))\n",
        "\n",
        "def l1_distance(x1, x2, axis=-1):\n",
        "    return np.sum(np.abs(x1 - x2), axis=axis)\n",
        "\n",
        "class KNN:\n",
        "    def __init__(self, k=5, distance_func=l2_distance):\n",
        "        self.k = k\n",
        "        self.distance_func = distance_func\n",
        "\n",
        "    def fit(self, X_train, y_train):\n",
        "        self.X_train = X_train\n",
        "        self.y_train = y_train\n",
        "\n",
        "    def predict(self, X_test):\n",
        "        y_pred = np.zeros(len(X_test), dtype=self.y_train.dtype)\n",
        "        for i, x in enumerate(X_test):\n",
        "            distances = self.distance_func(x, self.X_train, axis=-1)\n",
        "            idx = np.argsort(distances)[:self.k]\n",
        "            k_nearest_classes = self.y_train[idx]\n",
        "            y_pred[i] = np.bincount(k_nearest_classes).argmax()\n",
        "        return y_pred\n"
      ],
      "metadata": {
        "id": "NX-h9SZ2QEPp"
      },
      "execution_count": 6,
      "outputs": []
    },
    {
      "cell_type": "markdown",
      "source": [
        "(1) 分析比较不同$K$取值（如$K=1, 3,5,7$）对分类正确率的影响"
      ],
      "metadata": {
        "id": "msJwoPWafeXo"
      }
    },
    {
      "cell_type": "code",
      "source": [
        "k_list = [1, 3, 5, 7]\n",
        "acc_list = []\n",
        "for k in k_list:\n",
        "    knn = KNN(k=k)\n",
        "    knn.fit(X_train, y_train)\n",
        "    y_pred = knn.predict(X_test)\n",
        "    acc_list.append(np.sum(y_pred == y_test) / len(y_pred))\n",
        "\n",
        "df_result = pd.DataFrame()\n",
        "df_result['K value'] = k_list\n",
        "df_result['Test Acc'] = acc_list\n",
        "df_result"
      ],
      "metadata": {
        "colab": {
          "base_uri": "https://localhost:8080/",
          "height": 175
        },
        "id": "02ptKLQfgARV",
        "outputId": "45521df2-6b97-4c2b-d1fe-730bbea8f01c"
      },
      "execution_count": 7,
      "outputs": [
        {
          "output_type": "execute_result",
          "data": {
            "text/plain": [
              "   K value  Test Acc\n",
              "0        1     0.941\n",
              "1        3     0.945\n",
              "2        5     0.943\n",
              "3        7     0.950"
            ],
            "text/html": [
              "\n",
              "  <div id=\"df-84cb10d6-6dac-4753-8490-8a07ea3f1363\">\n",
              "    <div class=\"colab-df-container\">\n",
              "      <div>\n",
              "<style scoped>\n",
              "    .dataframe tbody tr th:only-of-type {\n",
              "        vertical-align: middle;\n",
              "    }\n",
              "\n",
              "    .dataframe tbody tr th {\n",
              "        vertical-align: top;\n",
              "    }\n",
              "\n",
              "    .dataframe thead th {\n",
              "        text-align: right;\n",
              "    }\n",
              "</style>\n",
              "<table border=\"1\" class=\"dataframe\">\n",
              "  <thead>\n",
              "    <tr style=\"text-align: right;\">\n",
              "      <th></th>\n",
              "      <th>K value</th>\n",
              "      <th>Test Acc</th>\n",
              "    </tr>\n",
              "  </thead>\n",
              "  <tbody>\n",
              "    <tr>\n",
              "      <th>0</th>\n",
              "      <td>1</td>\n",
              "      <td>0.941</td>\n",
              "    </tr>\n",
              "    <tr>\n",
              "      <th>1</th>\n",
              "      <td>3</td>\n",
              "      <td>0.945</td>\n",
              "    </tr>\n",
              "    <tr>\n",
              "      <th>2</th>\n",
              "      <td>5</td>\n",
              "      <td>0.943</td>\n",
              "    </tr>\n",
              "    <tr>\n",
              "      <th>3</th>\n",
              "      <td>7</td>\n",
              "      <td>0.950</td>\n",
              "    </tr>\n",
              "  </tbody>\n",
              "</table>\n",
              "</div>\n",
              "      <button class=\"colab-df-convert\" onclick=\"convertToInteractive('df-84cb10d6-6dac-4753-8490-8a07ea3f1363')\"\n",
              "              title=\"Convert this dataframe to an interactive table.\"\n",
              "              style=\"display:none;\">\n",
              "        \n",
              "  <svg xmlns=\"http://www.w3.org/2000/svg\" height=\"24px\"viewBox=\"0 0 24 24\"\n",
              "       width=\"24px\">\n",
              "    <path d=\"M0 0h24v24H0V0z\" fill=\"none\"/>\n",
              "    <path d=\"M18.56 5.44l.94 2.06.94-2.06 2.06-.94-2.06-.94-.94-2.06-.94 2.06-2.06.94zm-11 1L8.5 8.5l.94-2.06 2.06-.94-2.06-.94L8.5 2.5l-.94 2.06-2.06.94zm10 10l.94 2.06.94-2.06 2.06-.94-2.06-.94-.94-2.06-.94 2.06-2.06.94z\"/><path d=\"M17.41 7.96l-1.37-1.37c-.4-.4-.92-.59-1.43-.59-.52 0-1.04.2-1.43.59L10.3 9.45l-7.72 7.72c-.78.78-.78 2.05 0 2.83L4 21.41c.39.39.9.59 1.41.59.51 0 1.02-.2 1.41-.59l7.78-7.78 2.81-2.81c.8-.78.8-2.07 0-2.86zM5.41 20L4 18.59l7.72-7.72 1.47 1.35L5.41 20z\"/>\n",
              "  </svg>\n",
              "      </button>\n",
              "      \n",
              "  <style>\n",
              "    .colab-df-container {\n",
              "      display:flex;\n",
              "      flex-wrap:wrap;\n",
              "      gap: 12px;\n",
              "    }\n",
              "\n",
              "    .colab-df-convert {\n",
              "      background-color: #E8F0FE;\n",
              "      border: none;\n",
              "      border-radius: 50%;\n",
              "      cursor: pointer;\n",
              "      display: none;\n",
              "      fill: #1967D2;\n",
              "      height: 32px;\n",
              "      padding: 0 0 0 0;\n",
              "      width: 32px;\n",
              "    }\n",
              "\n",
              "    .colab-df-convert:hover {\n",
              "      background-color: #E2EBFA;\n",
              "      box-shadow: 0px 1px 2px rgba(60, 64, 67, 0.3), 0px 1px 3px 1px rgba(60, 64, 67, 0.15);\n",
              "      fill: #174EA6;\n",
              "    }\n",
              "\n",
              "    [theme=dark] .colab-df-convert {\n",
              "      background-color: #3B4455;\n",
              "      fill: #D2E3FC;\n",
              "    }\n",
              "\n",
              "    [theme=dark] .colab-df-convert:hover {\n",
              "      background-color: #434B5C;\n",
              "      box-shadow: 0px 1px 3px 1px rgba(0, 0, 0, 0.15);\n",
              "      filter: drop-shadow(0px 1px 2px rgba(0, 0, 0, 0.3));\n",
              "      fill: #FFFFFF;\n",
              "    }\n",
              "  </style>\n",
              "\n",
              "      <script>\n",
              "        const buttonEl =\n",
              "          document.querySelector('#df-84cb10d6-6dac-4753-8490-8a07ea3f1363 button.colab-df-convert');\n",
              "        buttonEl.style.display =\n",
              "          google.colab.kernel.accessAllowed ? 'block' : 'none';\n",
              "\n",
              "        async function convertToInteractive(key) {\n",
              "          const element = document.querySelector('#df-84cb10d6-6dac-4753-8490-8a07ea3f1363');\n",
              "          const dataTable =\n",
              "            await google.colab.kernel.invokeFunction('convertToInteractive',\n",
              "                                                     [key], {});\n",
              "          if (!dataTable) return;\n",
              "\n",
              "          const docLinkHtml = 'Like what you see? Visit the ' +\n",
              "            '<a target=\"_blank\" href=https://colab.research.google.com/notebooks/data_table.ipynb>data table notebook</a>'\n",
              "            + ' to learn more about interactive tables.';\n",
              "          element.innerHTML = '';\n",
              "          dataTable['output_type'] = 'display_data';\n",
              "          await google.colab.output.renderOutput(dataTable, element);\n",
              "          const docLink = document.createElement('div');\n",
              "          docLink.innerHTML = docLinkHtml;\n",
              "          element.appendChild(docLink);\n",
              "        }\n",
              "      </script>\n",
              "    </div>\n",
              "  </div>\n",
              "  "
            ]
          },
          "metadata": {},
          "execution_count": 7
        }
      ]
    },
    {
      "cell_type": "markdown",
      "source": [
        "(2) "
      ],
      "metadata": {
        "id": "yXR6YHLmKipW"
      }
    },
    {
      "cell_type": "code",
      "source": [],
      "metadata": {
        "id": "LoSJxNPdC8qx"
      },
      "execution_count": null,
      "outputs": []
    },
    {
      "cell_type": "markdown",
      "source": [
        "(3)"
      ],
      "metadata": {
        "id": "FzEnhFMeC9Cm"
      }
    },
    {
      "cell_type": "code",
      "source": [],
      "metadata": {
        "id": "7ZXVvTdVC_At"
      },
      "execution_count": null,
      "outputs": []
    }
  ],
  "metadata": {
    "colab": {
      "provenance": [],
      "include_colab_link": true
    },
    "language_info": {
      "name": "python"
    },
    "orig_nbformat": 4,
    "kernelspec": {
      "name": "python3",
      "display_name": "Python 3"
    },
    "gpuClass": "standard"
  },
  "nbformat": 4,
  "nbformat_minor": 0
}