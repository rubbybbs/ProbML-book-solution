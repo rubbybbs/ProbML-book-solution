{
  "cells": [
    {
      "attachments": {},
      "cell_type": "markdown",
      "metadata": {
        "id": "cESffJcerWpD"
      },
      "source": [
        "# 习题 1.4.3 <a href=\"https://colab.research.google.com/github/rubbybbs/ProbML-book-solution/blob/main/ch01/1.4.3.ipynb\" target=\"_parent\"><img src=\"https://colab.research.google.com/assets/colab-badge.svg\" alt=\"Open In Colab\"/></a>\n",
        "\n",
        "编程实现K-近邻算法，并在MNIST手写字符识别数据集上进行实验："
      ]
    },
    {
      "cell_type": "code",
      "execution_count": null,
      "metadata": {
        "id": "40yr_DuwrWpI"
      },
      "outputs": [],
      "source": [
        "# Download datasets\n"
      ]
    }
  ],
  "metadata": {
    "colab": {
      "provenance": []
    },
    "language_info": {
      "name": "python"
    },
    "orig_nbformat": 4
  },
  "nbformat": 4,
  "nbformat_minor": 0
}
